{
 "cells": [
  {
   "cell_type": "markdown",
   "id": "e29d0041",
   "metadata": {},
   "source": [
    "Cooley–Tukey Algorithm\n",
    "An $N = N_1*N_2$-point DFT can be done using the following steps:\n",
    "1) Compute an index transform of the input sequence according to:\n",
    "$\n",
    "\\\\\n",
    "n = N_2*n_1 + n_2  \n",
    "\\begin{cases}\n",
    "0 ≤ n_1 ≤ N_1 − 1\\\\\n",
    "0 ≤ n_2 ≤ N_2 − 1\n",
    "\\end{cases} \n",
    "$\n",
    "1) Compute the $N_2$ DFTs of length $N_1$.\n",
    "2) Apply the twiddle factors $W_N^{n_2*k_1}$ to the output of the ﬁrst transform\n",
    "stage.\n",
    "1) Compute $N_1$ DFTs of length $N_2$.\n",
    "2) Compute an index transform of the output sequence according to:\n",
    "$\n",
    "\\\\\n",
    "n = k_1 + N_1*k_2  \n",
    "\\begin{cases}\n",
    "0 ≤ k_1 ≤ N_1 − 1\\\\\n",
    "0 ≤ k_2 ≤ N_2 − 1\n",
    "\\end{cases} \n",
    "$\n"
   ]
  },
  {
   "cell_type": "code",
   "execution_count": 91,
   "id": "0ad52616",
   "metadata": {},
   "outputs": [],
   "source": [
    "import numpy as np"
   ]
  },
  {
   "cell_type": "code",
   "execution_count": 92,
   "id": "46b6e4fa",
   "metadata": {},
   "outputs": [],
   "source": [
    "x= np.array([40,60,80,100,120,140,160,0])"
   ]
  },
  {
   "cell_type": "code",
   "execution_count": 93,
   "id": "ff063a40",
   "metadata": {},
   "outputs": [],
   "source": [
    "N = 8\n",
    "\n",
    "def W(N):\n",
    "    k = np.linspace(0, N-1, N)\n",
    "    return np.exp(-1j*2*np.pi*k/N)"
   ]
  },
  {
   "cell_type": "code",
   "execution_count": 94,
   "id": "2494f47f",
   "metadata": {},
   "outputs": [
    {
     "name": "stdout",
     "output_type": "stream",
     "text": [
      "[ 40.+0.j  60.+0.j  80.+0.j 100.+0.j 120.+0.j 140.+0.j 160.+0.j   0.+0.j]\n"
     ]
    }
   ],
   "source": [
    "N = 8\n",
    "W_N = W(N)\n",
    "x_i = x + 0j\n",
    "print(x_i)"
   ]
  },
  {
   "cell_type": "code",
   "execution_count": null,
   "id": "a7f7d900",
   "metadata": {},
   "outputs": [
    {
     "name": "stdout",
     "output_type": "stream",
     "text": [
      "[700.] [-207.27922061] [-80.] [-80.] [100.] [47.27922061] [-80.] [-80.]\n"
     ]
    },
    {
     "name": "stderr",
     "output_type": "stream",
     "text": [
      "C:\\Users\\ilnur.n\\AppData\\Local\\Temp\\ipykernel_16496\\3872867683.py:8: ComplexWarning: Casting complex values to real discards the imaginary part\n",
      "  xo_0[m] = x_i[m] + x_i[m + N//2]\n",
      "C:\\Users\\ilnur.n\\AppData\\Local\\Temp\\ipykernel_16496\\3872867683.py:9: ComplexWarning: Casting complex values to real discards the imaginary part\n",
      "  xo_1[m] = (x_i[m] - x_i[m + N//2])*W_N[m]\n"
     ]
    }
   ],
   "source": [
    "x_0 = np.zeros(N//2)\n",
    "x_1 = np.zeros(N//2)\n",
    "\n",
    "def butterfly(x_i, W_N, N):\n",
    "    xo_0 = np.zeros(N//2)\n",
    "    xo_1 = np.zeros(N//2)\n",
    "    for m in range(N//2):\n",
    "        xo_0[m] = x_i[m] + x_i[m + N//2]\n",
    "        xo_1[m] = (x_i[m] - x_i[m + N//2])*W_N[m]\n",
    "    return xo_0, xo_1 \n",
    "\n",
    "x_0, x_1 = butterfly(x_i, W_N, N)\n",
    "\n",
    "N = N//2\n",
    "W_N = W(N)\n",
    "x_00, x_01 = butterfly(x_0, W_N, N)\n",
    "x_10, x_11 = butterfly(x_1, W_N, N)\n",
    "N = N//2\n",
    "W_N = W(N)\n",
    "s0, s4 = butterfly(x_00, W_N, N)\n",
    "s2, s6 = butterfly(x_01, W_N, N)\n",
    "s1, s5 = butterfly(x_10, W_N, N)\n",
    "s3, s7 = butterfly(x_11, W_N, N)\n",
    "\n",
    "print(s0 ,s1, s2, s3 , s4 , s5 , s6 , s7)"
   ]
  },
  {
   "cell_type": "code",
   "execution_count": 96,
   "id": "526e6f69",
   "metadata": {},
   "outputs": [
    {
     "name": "stdout",
     "output_type": "stream",
     "text": [
      "[ 700.          +0.j         -207.27922061 +65.85786438j\n",
      "  -80.        -100.j           47.27922061 -94.14213562j\n",
      "  100.          +0.j           47.27922061 +94.14213562j\n",
      "  -80.        +100.j         -207.27922061 -65.85786438j]\n"
     ]
    }
   ],
   "source": [
    "x_fft = np.fft.fft(x, 8)\n",
    "print(x_fft)"
   ]
  }
 ],
 "metadata": {
  "kernelspec": {
   "display_name": "Python 3",
   "language": "python",
   "name": "python3"
  },
  "language_info": {
   "codemirror_mode": {
    "name": "ipython",
    "version": 3
   },
   "file_extension": ".py",
   "mimetype": "text/x-python",
   "name": "python",
   "nbconvert_exporter": "python",
   "pygments_lexer": "ipython3",
   "version": "3.11.9"
  }
 },
 "nbformat": 4,
 "nbformat_minor": 5
}
